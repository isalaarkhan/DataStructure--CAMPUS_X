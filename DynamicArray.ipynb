{
  "nbformat": 4,
  "nbformat_minor": 0,
  "metadata": {
    "colab": {
      "provenance": [],
      "authorship_tag": "ABX9TyP9lw/dZSXQHA8evmDQARvO",
      "include_colab_link": true
    },
    "kernelspec": {
      "name": "python3",
      "display_name": "Python 3"
    },
    "language_info": {
      "name": "python"
    }
  },
  "cells": [
    {
      "cell_type": "markdown",
      "metadata": {
        "id": "view-in-github",
        "colab_type": "text"
      },
      "source": [
        "<a href=\"https://colab.research.google.com/github/isalaarkhan/DataStructure--CAMPUS_X/blob/main/DynamicArray.ipynb\" target=\"_parent\"><img src=\"https://colab.research.google.com/assets/colab-badge.svg\" alt=\"Open In Colab\"/></a>"
      ]
    },
    {
      "cell_type": "code",
      "execution_count": 1,
      "metadata": {
        "id": "9JrMk9O62g9h"
      },
      "outputs": [],
      "source": [
        "import ctypes"
      ]
    },
    {
      "cell_type": "code",
      "source": [
        "class Meralist:\n",
        "\n",
        "  def __init__(self):\n",
        "    self.size = 1\n",
        "    self.n = 0\n",
        "    #create a C type array with size = self.size\n",
        "    self.A = self.__make_array(self.size)\n",
        "  #length\n",
        "  def __len__(self):\n",
        "    return self.n\n",
        "\n",
        "  def __str__(self):\n",
        "    result = ''\n",
        "    for i in range(self.n):\n",
        "      result = result + str(self.A[i]) + ','\n",
        "    return '[' + result[:-1] + ']'\n",
        "\n",
        "\n",
        "\n",
        "  #append\n",
        "  def append(self,item):\n",
        "    if self.n == self.size:\n",
        "      #resize\n",
        "      self.__resize(self.size*2)\n",
        "    #append\n",
        "    self.A[self.n] = item\n",
        "    self.n += 1\n",
        "\n",
        "  def __resize(self,new_capacity):\n",
        "    B = self.__make_array(new_capacity)\n",
        "    self.size = new_capacity\n",
        "    #copy the content of A to B\n",
        "    for i in range(self.n):\n",
        "      B[i] = self.A[i]\n",
        "    #reassign A\n",
        "    self.A = B\n",
        "\n",
        "\n",
        "  def __make_array(self, capacity):\n",
        "    #create a C type array(Static, refrential)\n",
        "    return (capacity * ctypes.py_object)()"
      ],
      "metadata": {
        "id": "NxZWm1XH2y_K"
      },
      "execution_count": 16,
      "outputs": []
    },
    {
      "cell_type": "code",
      "source": [
        "S = Meralist()\n",
        "print(S)\n",
        "len(S)\n",
        "S.append('hello')\n",
        "S.append(6)\n",
        "len(S)\n",
        "print(S)"
      ],
      "metadata": {
        "colab": {
          "base_uri": "https://localhost:8080/"
        },
        "id": "M4y8r954370m",
        "outputId": "c91435de-682f-4dd7-9bcb-c7d47c7d3167"
      },
      "execution_count": 18,
      "outputs": [
        {
          "output_type": "stream",
          "name": "stdout",
          "text": [
            "[]\n",
            "[hello,6]\n"
          ]
        }
      ]
    },
    {
      "cell_type": "code",
      "source": [],
      "metadata": {
        "id": "j4onCXJr8fhm"
      },
      "execution_count": null,
      "outputs": []
    }
  ]
}